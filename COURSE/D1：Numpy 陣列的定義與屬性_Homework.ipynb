{
 "cells": [
  {
   "cell_type": "markdown",
   "metadata": {
    "id": "P6xk2_jLsvFF"
   },
   "source": [
    "# [作業目標]\n",
    "\n",
    "1. [簡答題] 請問下列兩種將 Array 轉換成 List 的方式有何不同？\n",
    "\n",
    "```\n",
    "print('list(a): ', list(a))\n",
    "print('tolist(): ', a.tolist())\n",
    "```\n",
    "\n",
    "2. 請試著在程式中印出以下三個 NdArray 的屬性？（屬性：ndim、shape、size、dtype、itemsize、length、type）\n",
    "\n",
    "```\n",
    "a = np.random.randint(10, size=6) \n",
    "b = np.random.randint(10, size=(3,4)) \n",
    "c = np.random.randint(10, size=(2,3,2)) \n",
    "```\n",
    "\n",
    "3. 如何利用 list(...) 實現 a.tolist() 的效果？試著用程式實作。\n"
   ]
  },
  {
   "cell_type": "markdown",
   "metadata": {
    "id": "uXGll28asvFS"
   },
   "source": [
    "# 作業 "
   ]
  },
  {
   "cell_type": "markdown",
   "metadata": {
    "id": "SYkvkp9YLwB7"
   },
   "source": [
    "### 1. [簡答題] 請問下列兩種將 Array 轉換成 List 的方式有何不同？\n",
    "\n",
    "```\n",
    "print('list(a): ', list(a))\n",
    "print('tolist(): ', a.tolist())\n",
    "```\n"
   ]
  },
  {
   "cell_type": "code",
   "execution_count": 20,
   "metadata": {
    "id": "5QrYoyNWsvFS",
    "outputId": "13f374d0-6f1b-47aa-bbac-c7d1a8c6995c"
   },
   "outputs": [],
   "source": [
    "import numpy as np\n",
    "\n",
    "a = np.array([1, 2, 3]) # 一維陣列\n",
    "b = np.array([[1, 2, 3], [4, 5, 6]]) # 二維陣列\n",
    "c = np.array([[1, 2, 3], [4, 5, 6], [7, 8, 9]]) # 三維陣列"
   ]
  },
  {
   "cell_type": "code",
   "execution_count": 14,
   "metadata": {},
   "outputs": [
    {
     "name": "stdout",
     "output_type": "stream",
     "text": [
      "[1, 2, 3]\n",
      "[1, 2, 3]\n"
     ]
    }
   ],
   "source": [
    "print(list(a))\n",
    "print(a.tolist())"
   ]
  },
  {
   "cell_type": "code",
   "execution_count": 16,
   "metadata": {},
   "outputs": [
    {
     "name": "stdout",
     "output_type": "stream",
     "text": [
      "[array([1, 2, 3]), array([4, 5, 6])]\n",
      "[[1, 2, 3], [4, 5, 6]]\n"
     ]
    }
   ],
   "source": [
    "print(list(b))\n",
    "print(b.tolist())"
   ]
  },
  {
   "cell_type": "code",
   "execution_count": 24,
   "metadata": {},
   "outputs": [
    {
     "name": "stdout",
     "output_type": "stream",
     "text": [
      "[array([1, 2, 3]), array([4, 5, 6]), array([7, 8, 9])]\n",
      "[[1, 2, 3], [4, 5, 6], [7, 8, 9]]\n"
     ]
    }
   ],
   "source": [
    "print(list(c))\n",
    "print(c.tolist())"
   ]
  },
  {
   "cell_type": "code",
   "execution_count": 32,
   "metadata": {},
   "outputs": [],
   "source": [
    "# list(a): 只拆開最外層，裡面還是陣列 (array)\n",
    "# a.tolist(a): 一層層徹底拆開，變成 nested list"
   ]
  },
  {
   "cell_type": "markdown",
   "metadata": {
    "id": "AC9wUCyALwB9"
   },
   "source": [
    "### 2. 請試著在程式中印出以下三個 NdArray 的屬性並且解釋結果？（屬性：ndim、shape、size、dtype、itemsize、length、type）\n",
    "\n",
    "```\n",
    "a = np.random.randint(10, size=6) \n",
    "b = np.random.randint(10, size=(3,4)) \n",
    "c = np.random.randint(10, size=(2,3,2)) \n",
    "```"
   ]
  },
  {
   "cell_type": "code",
   "execution_count": 34,
   "metadata": {
    "id": "4qARRsdtLwB-"
   },
   "outputs": [],
   "source": [
    "import numpy as np"
   ]
  },
  {
   "cell_type": "code",
   "execution_count": 64,
   "metadata": {
    "id": "e1gVI0tvsvFY",
    "outputId": "9be10770-9042-40c8-c4bc-217b84be9fc9"
   },
   "outputs": [
    {
     "name": "stdout",
     "output_type": "stream",
     "text": [
      "[6 1 3 5 7 6]\n",
      "ndim:  1\n",
      "shape:  (6,)\n",
      "size:  6\n",
      "dtype:  int64\n",
      "itemsize:  8\n",
      "length:  6\n",
      "type:  <class 'numpy.ndarray'>\n"
     ]
    }
   ],
   "source": [
    "\n",
    "a = np.random.randint(10, size=6) \n",
    "\n",
    "print(a)\n",
    "print('ndim: ', a.ndim)\n",
    "print('shape: ', a.shape)\n",
    "print('size: ', a.size)\n",
    "print('dtype: ', a.dtype)\n",
    "print('itemsize: ', a.itemsize)\n",
    "print('length: ', len(a))\n",
    "print('type: ', type(a))"
   ]
  },
  {
   "cell_type": "code",
   "execution_count": 80,
   "metadata": {
    "id": "iIJrIr7kLwB_",
    "outputId": "083c5519-394c-404e-9764-100c4ed5118a"
   },
   "outputs": [
    {
     "name": "stdout",
     "output_type": "stream",
     "text": [
      "[[8 6 8 4]\n",
      " [5 2 8 5]\n",
      " [9 2 1 4]]\n",
      "ndim:  2\n",
      "shape:  (3, 4)\n",
      "size:  12\n",
      "dtype:  int64\n",
      "itemsize:  8\n",
      "length:  3\n",
      "type:  <class 'numpy.ndarray'>\n"
     ]
    }
   ],
   "source": [
    "b = np.random.randint(10, size=(3,4)) \n",
    "\n",
    "print(b)\n",
    "print('ndim: ', b.ndim)\n",
    "print('shape: ', b.shape)\n",
    "print('size: ', b.size)\n",
    "print('dtype: ', b.dtype)\n",
    "print('itemsize: ', b.itemsize)\n",
    "print('length: ', len(b))\n",
    "print('type: ', type(b))"
   ]
  },
  {
   "cell_type": "code",
   "execution_count": 86,
   "metadata": {
    "id": "98SRFh_FLwCC",
    "outputId": "dc65dfac-9ae6-49d2-f854-88eccebc2aac"
   },
   "outputs": [
    {
     "name": "stdout",
     "output_type": "stream",
     "text": [
      "[[[2 5]\n",
      "  [5 1]\n",
      "  [6 0]]\n",
      "\n",
      " [[4 5]\n",
      "  [4 6]\n",
      "  [3 9]]]\n",
      "ndim:  3\n",
      "shape:  (2, 3, 2)\n",
      "size:  12\n",
      "dtype:  int64\n",
      "itemsize:  8\n",
      "length:  2\n",
      "type:  <class 'numpy.ndarray'>\n"
     ]
    }
   ],
   "source": [
    "c = np.random.randint(10, size=(2,3,2)) \n",
    "\n",
    "print(c)\n",
    "print('ndim: ', c.ndim)\n",
    "print('shape: ', c.shape)\n",
    "print('size: ', c.size)\n",
    "print('dtype: ', c.dtype)\n",
    "print('itemsize: ', c.itemsize)\n",
    "print('length: ', len(c))\n",
    "print('type: ', type(c))\n",
    "\n",
    "# Compare the difference between \"size (所有元素數量) \" and \"len (最外面那層) \""
   ]
  },
  {
   "cell_type": "markdown",
   "metadata": {
    "id": "Uf6zC0QZLwCE"
   },
   "source": [
    "### 3. 如何利用 list(...) 實現 a.tolist() 的效果？試著用程式實作。\n"
   ]
  },
  {
   "cell_type": "code",
   "execution_count": null,
   "metadata": {
    "id": "sCUzHu_BLwCF",
    "outputId": "ba9c8945-8efb-42b1-f978-2bbdda97accd"
   },
   "outputs": [
    {
     "name": "stdout",
     "output_type": "stream",
     "text": [
      "[7, 6, 7, 3, 7, 5]\n",
      "[7, 6, 7, 3, 7, 5]\n"
     ]
    }
   ],
   "source": [
    "a = np.random.randint(10, size=6) \n",
    "\n",
    "print(a.tolist())\n",
    "print(list(a))\n"
   ]
  },
  {
   "cell_type": "code",
   "execution_count": null,
   "metadata": {
    "id": "IUkVtw8RLwCG",
    "outputId": "e39875a5-5ec7-431b-c12a-485acc167e44"
   },
   "outputs": [
    {
     "name": "stdout",
     "output_type": "stream",
     "text": [
      "[[5, 7, 4, 6], [9, 4, 0, 1], [9, 1, 2, 9]]\n",
      "[array([5, 7, 4, 6]), array([9, 4, 0, 1]), array([9, 1, 2, 9])]\n"
     ]
    }
   ],
   "source": [
    "b = np.random.randint(10, size=(3,4)) \n",
    "\n",
    "print(b.tolist())\n",
    "print(list(b))\n"
   ]
  },
  {
   "cell_type": "code",
   "execution_count": null,
   "metadata": {
    "id": "NPhF8_CqLwCG",
    "outputId": "51fab908-5bfd-415f-9584-92bb376648c8"
   },
   "outputs": [
    {
     "name": "stdout",
     "output_type": "stream",
     "text": [
      "[[[0, 4], [0, 1], [9, 5]], [[8, 7], [8, 2], [6, 0]]]\n",
      "[array([[0, 4],\n",
      "       [0, 1],\n",
      "       [9, 5]]), array([[8, 7],\n",
      "       [8, 2],\n",
      "       [6, 0]])]\n"
     ]
    }
   ],
   "source": [
    "c = np.random.randint(10, size=(2,3,2)) \n",
    "\n",
    "print(c.tolist())\n",
    "print(list(c))\n"
   ]
  },
  {
   "cell_type": "code",
   "execution_count": 90,
   "metadata": {
    "id": "3Hc8vQYtLwCH",
    "outputId": "1290bc93-84ca-4da4-eb1a-315da37afaff"
   },
   "outputs": [
    {
     "name": "stdout",
     "output_type": "stream",
     "text": [
      "[6, 1, 3, 5, 7, 6]\n",
      "[[8, 6, 8, 4], [5, 2, 8, 5], [9, 2, 1, 4]]\n",
      "[[[2, 5], [5, 1], [6, 0]], [[4, 5], [4, 6], [3, 9]]]\n"
     ]
    }
   ],
   "source": [
    "def tolist(iterable):\n",
    "    if type(iterable) != np.ndarray: # 非 array 的 else 會直接回傳原值\n",
    "        return iterable\n",
    "    newlist = []\n",
    "    for obj in iterable: # 針對是 array 的值\n",
    "        newlist.append(tolist(obj)) # 對每個元素 obj，再次調用 tolist 函數進行遞歸處理，這樣如果 obj 還是一個多維陣列，會進一步將它轉換為列表\n",
    "    return(newlist)\n",
    "\n",
    "print(tolist(a))\n",
    "print(tolist(b))\n",
    "print(tolist(c))"
   ]
  },
  {
   "cell_type": "code",
   "execution_count": 102,
   "metadata": {
    "id": "2lDVOwFpLwCJ",
    "outputId": "ddfa84e4-3d32-4a68-c250-f57b2f66d830"
   },
   "outputs": [
    {
     "name": "stdout",
     "output_type": "stream",
     "text": [
      "[[8, 6, 8, 4], [5, 2, 8, 5], [9, 2, 1, 4]]\n",
      "[[8, 6, 8, 4], [5, 2, 8, 5], [9, 2, 1, 4]]\n"
     ]
    }
   ],
   "source": [
    "b1 = b.tolist()\n",
    "print(b1)\n",
    "print(tolist(b1))"
   ]
  },
  {
   "cell_type": "code",
   "execution_count": null,
   "metadata": {
    "id": "tvqCpuFILwCK"
   },
   "outputs": [],
   "source": []
  },
  {
   "cell_type": "code",
   "execution_count": null,
   "metadata": {
    "id": "640whg6NLwCK"
   },
   "outputs": [],
   "source": []
  }
 ],
 "metadata": {
  "colab": {
   "name": "01Homework_維元.ipynb",
   "provenance": []
  },
  "kernelspec": {
   "display_name": "Python 3 (ipykernel)",
   "language": "python",
   "name": "python3"
  },
  "language_info": {
   "codemirror_mode": {
    "name": "ipython",
    "version": 3
   },
   "file_extension": ".py",
   "mimetype": "text/x-python",
   "name": "python",
   "nbconvert_exporter": "python",
   "pygments_lexer": "ipython3",
   "version": "3.12.4"
  }
 },
 "nbformat": 4,
 "nbformat_minor": 4
}
