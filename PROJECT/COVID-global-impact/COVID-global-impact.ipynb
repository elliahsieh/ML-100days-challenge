{
 "cells": [
  {
   "cell_type": "markdown",
   "id": "ff1025ed-a8ee-4ab4-81b3-65b0cff84060",
   "metadata": {},
   "source": [
    "### 1. Import Libraries and Dataset"
   ]
  },
  {
   "cell_type": "code",
   "execution_count": 1,
   "id": "97483de3-2c6a-4ff7-9272-1693ff6f14ba",
   "metadata": {},
   "outputs": [
    {
     "name": "stdout",
     "output_type": "stream",
     "text": [
      "Requirement already satisfied: kaggle in /opt/anaconda3/lib/python3.12/site-packages (1.6.17)\n",
      "Requirement already satisfied: six>=1.10 in /opt/anaconda3/lib/python3.12/site-packages (from kaggle) (1.16.0)\n",
      "Requirement already satisfied: certifi>=2023.7.22 in /opt/anaconda3/lib/python3.12/site-packages (from kaggle) (2024.8.30)\n",
      "Requirement already satisfied: python-dateutil in /opt/anaconda3/lib/python3.12/site-packages (from kaggle) (2.9.0.post0)\n",
      "Requirement already satisfied: requests in /opt/anaconda3/lib/python3.12/site-packages (from kaggle) (2.32.2)\n",
      "Requirement already satisfied: tqdm in /opt/anaconda3/lib/python3.12/site-packages (from kaggle) (4.66.4)\n",
      "Requirement already satisfied: python-slugify in /opt/anaconda3/lib/python3.12/site-packages (from kaggle) (5.0.2)\n",
      "Requirement already satisfied: urllib3 in /opt/anaconda3/lib/python3.12/site-packages (from kaggle) (2.2.2)\n",
      "Requirement already satisfied: bleach in /opt/anaconda3/lib/python3.12/site-packages (from kaggle) (4.1.0)\n",
      "Requirement already satisfied: packaging in /opt/anaconda3/lib/python3.12/site-packages (from bleach->kaggle) (23.2)\n",
      "Requirement already satisfied: webencodings in /opt/anaconda3/lib/python3.12/site-packages (from bleach->kaggle) (0.5.1)\n",
      "Requirement already satisfied: text-unidecode>=1.3 in /opt/anaconda3/lib/python3.12/site-packages (from python-slugify->kaggle) (1.3)\n",
      "Requirement already satisfied: charset-normalizer<4,>=2 in /opt/anaconda3/lib/python3.12/site-packages (from requests->kaggle) (2.0.4)\n",
      "Requirement already satisfied: idna<4,>=2.5 in /opt/anaconda3/lib/python3.12/site-packages (from requests->kaggle) (3.7)\n"
     ]
    }
   ],
   "source": [
    "# Through Kaggle API\n",
    "!pip install kaggle"
   ]
  },
  {
   "cell_type": "markdown",
   "id": "0f3e61e5-0070-458a-9737-92c4d7cd861d",
   "metadata": {},
   "source": [
    "Reference: Kaggle API documents ([link](https://github.com/Kaggle/kaggle-api))"
   ]
  },
  {
   "cell_type": "code",
   "execution_count": 4,
   "id": "8029e880-c597-43f6-ae78-71bfbd9b1992",
   "metadata": {},
   "outputs": [],
   "source": [
    "import os\n",
    "os.environ['KAGGLE_CONFIG_DIR'] = '/Users/ellia.hsieh/Documents/GitHub/ML-100days-challenge/PROJECT/COVID-global-impact'"
   ]
  },
  {
   "cell_type": "code",
   "execution_count": 6,
   "id": "a41599d8-a1ec-4d6e-8047-397e77128c60",
   "metadata": {},
   "outputs": [
    {
     "name": "stdout",
     "output_type": "stream",
     "text": [
      "Warning: Your Kaggle API key is readable by other users on this system! To fix this, you can run 'chmod 600 /Users/ellia.hsieh/Documents/GitHub/ML-100days-challenge/PROJECT/COVID-global-impact/kaggle.json'\n",
      "Dataset URL: https://www.kaggle.com/datasets/allen-institute-for-ai/CORD-19-research-challenge\n",
      "License(s): other\n",
      "Downloading CORD-19-research-challenge.zip to /Users/ellia.hsieh/Documents/GitHub/ML-100days-challenge/PROJECT/COVID-global-impact\n",
      "... resuming from 2995781632 bytes (16729197818 bytes left) ...\n",
      "100%|█████████████████████████████████████▉| 18.4G/18.4G [48:17<00:00, 8.50MB/s]\n",
      "100%|██████████████████████████████████████| 18.4G/18.4G [48:17<00:00, 5.77MB/s]\n"
     ]
    }
   ],
   "source": [
    "!kaggle datasets download -d allen-institute-for-ai/CORD-19-research-challenge"
   ]
  },
  {
   "cell_type": "markdown",
   "id": "bb90455c-28a5-421d-9e6a-580f75cc48ae",
   "metadata": {},
   "source": [
    "### 2. EDA and Preprocessing"
   ]
  },
  {
   "cell_type": "code",
   "execution_count": null,
   "id": "198d1b7f-8d13-4f6f-8865-e20598179568",
   "metadata": {},
   "outputs": [],
   "source": []
  }
 ],
 "metadata": {
  "kernelspec": {
   "display_name": "Python 3 (ipykernel)",
   "language": "python",
   "name": "python3"
  },
  "language_info": {
   "codemirror_mode": {
    "name": "ipython",
    "version": 3
   },
   "file_extension": ".py",
   "mimetype": "text/x-python",
   "name": "python",
   "nbconvert_exporter": "python",
   "pygments_lexer": "ipython3",
   "version": "3.12.4"
  }
 },
 "nbformat": 4,
 "nbformat_minor": 5
}
